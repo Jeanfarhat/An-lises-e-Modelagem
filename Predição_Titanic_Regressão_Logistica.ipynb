{
 "cells": [
  {
   "cell_type": "code",
   "execution_count": 2,
   "metadata": {},
   "outputs": [],
   "source": [
    "# importando as libraries\n",
    "import os\n",
    "import pandas as pd\n",
    "from sklearn.model_selection import train_test_split\n",
    "from sklearn.linear_model import LogisticRegression\n",
    "from sklearn.metrics import accuracy_score, confusion_matrix\n"
   ]
  },
  {
   "cell_type": "code",
   "execution_count": 4,
   "metadata": {},
   "outputs": [],
   "source": [
    "# Leitura dos dados e tratamento dos dados\n",
    "caminho = '(...)/flat_table'\n",
    "os.chdir(caminho)"
   ]
  },
  {
   "cell_type": "code",
   "execution_count": 5,
   "metadata": {},
   "outputs": [
    {
     "data": {
      "text/html": [
       "<div>\n",
       "<style scoped>\n",
       "    .dataframe tbody tr th:only-of-type {\n",
       "        vertical-align: middle;\n",
       "    }\n",
       "\n",
       "    .dataframe tbody tr th {\n",
       "        vertical-align: top;\n",
       "    }\n",
       "\n",
       "    .dataframe thead th {\n",
       "        text-align: right;\n",
       "    }\n",
       "</style>\n",
       "<table border=\"1\" class=\"dataframe\">\n",
       "  <thead>\n",
       "    <tr style=\"text-align: right;\">\n",
       "      <th></th>\n",
       "      <th>PassengerId</th>\n",
       "      <th>Survived</th>\n",
       "      <th>Age</th>\n",
       "      <th>Fare</th>\n",
       "      <th>AGE_WOE</th>\n",
       "      <th>TICKET_WOE</th>\n",
       "      <th>SEX_WOE</th>\n",
       "      <th>SIBSP_WOE</th>\n",
       "      <th>PARCH_WOE</th>\n",
       "      <th>CABIN_WOE</th>\n",
       "      <th>EMBARKED_WOE</th>\n",
       "      <th>PCLASS_WOE</th>\n",
       "    </tr>\n",
       "  </thead>\n",
       "  <tbody>\n",
       "    <tr>\n",
       "      <th>0</th>\n",
       "      <td>831</td>\n",
       "      <td>1</td>\n",
       "      <td>15</td>\n",
       "      <td>14.4542</td>\n",
       "      <td>1.077106</td>\n",
       "      <td>0.348307</td>\n",
       "      <td>1.504445</td>\n",
       "      <td>0.500417</td>\n",
       "      <td>-0.208506</td>\n",
       "      <td>-0.411306</td>\n",
       "      <td>0.817283</td>\n",
       "      <td>-0.775942</td>\n",
       "    </tr>\n",
       "    <tr>\n",
       "      <th>1</th>\n",
       "      <td>112</td>\n",
       "      <td>0</td>\n",
       "      <td>15</td>\n",
       "      <td>14.4542</td>\n",
       "      <td>1.077106</td>\n",
       "      <td>-1.000000</td>\n",
       "      <td>1.504445</td>\n",
       "      <td>0.500417</td>\n",
       "      <td>-0.208506</td>\n",
       "      <td>-0.411306</td>\n",
       "      <td>0.817283</td>\n",
       "      <td>-0.775942</td>\n",
       "    </tr>\n",
       "    <tr>\n",
       "      <th>2</th>\n",
       "      <td>40</td>\n",
       "      <td>1</td>\n",
       "      <td>14</td>\n",
       "      <td>11.2417</td>\n",
       "      <td>0.372049</td>\n",
       "      <td>1.000000</td>\n",
       "      <td>1.504445</td>\n",
       "      <td>0.500417</td>\n",
       "      <td>-0.208506</td>\n",
       "      <td>-0.411306</td>\n",
       "      <td>0.817283</td>\n",
       "      <td>-0.775942</td>\n",
       "    </tr>\n",
       "    <tr>\n",
       "      <th>3</th>\n",
       "      <td>621</td>\n",
       "      <td>0</td>\n",
       "      <td>27</td>\n",
       "      <td>14.4542</td>\n",
       "      <td>0.831591</td>\n",
       "      <td>0.348307</td>\n",
       "      <td>-0.973671</td>\n",
       "      <td>0.500417</td>\n",
       "      <td>-0.208506</td>\n",
       "      <td>-0.411306</td>\n",
       "      <td>0.817283</td>\n",
       "      <td>-0.775942</td>\n",
       "    </tr>\n",
       "    <tr>\n",
       "      <th>4</th>\n",
       "      <td>74</td>\n",
       "      <td>0</td>\n",
       "      <td>26</td>\n",
       "      <td>14.4542</td>\n",
       "      <td>-0.312728</td>\n",
       "      <td>-1.000000</td>\n",
       "      <td>-0.973671</td>\n",
       "      <td>0.500417</td>\n",
       "      <td>-0.208506</td>\n",
       "      <td>-0.411306</td>\n",
       "      <td>0.817283</td>\n",
       "      <td>-0.775942</td>\n",
       "    </tr>\n",
       "  </tbody>\n",
       "</table>\n",
       "</div>"
      ],
      "text/plain": [
       "   PassengerId  Survived  Age     Fare   AGE_WOE  TICKET_WOE   SEX_WOE  \\\n",
       "0          831         1   15  14.4542  1.077106    0.348307  1.504445   \n",
       "1          112         0   15  14.4542  1.077106   -1.000000  1.504445   \n",
       "2           40         1   14  11.2417  0.372049    1.000000  1.504445   \n",
       "3          621         0   27  14.4542  0.831591    0.348307 -0.973671   \n",
       "4           74         0   26  14.4542 -0.312728   -1.000000 -0.973671   \n",
       "\n",
       "   SIBSP_WOE  PARCH_WOE  CABIN_WOE  EMBARKED_WOE  PCLASS_WOE  \n",
       "0   0.500417  -0.208506  -0.411306      0.817283   -0.775942  \n",
       "1   0.500417  -0.208506  -0.411306      0.817283   -0.775942  \n",
       "2   0.500417  -0.208506  -0.411306      0.817283   -0.775942  \n",
       "3   0.500417  -0.208506  -0.411306      0.817283   -0.775942  \n",
       "4   0.500417  -0.208506  -0.411306      0.817283   -0.775942  "
      ]
     },
     "execution_count": 5,
     "metadata": {},
     "output_type": "execute_result"
    }
   ],
   "source": [
    "# Leitura do treino\n",
    "dados = pd.read_csv('flat_train.csv', sep = ';')\n",
    "dados.head()"
   ]
  },
  {
   "cell_type": "code",
   "execution_count": 6,
   "metadata": {},
   "outputs": [
    {
     "data": {
      "text/plain": [
       "Index(['PassengerId', 'Survived', 'Age', 'Fare', 'AGE_WOE', 'TICKET_WOE',\n",
       "       'SEX_WOE', 'SIBSP_WOE', 'PARCH_WOE', 'CABIN_WOE', 'EMBARKED_WOE',\n",
       "       'PCLASS_WOE'],\n",
       "      dtype='object')"
      ]
     },
     "execution_count": 6,
     "metadata": {},
     "output_type": "execute_result"
    }
   ],
   "source": [
    "# Separando as variaveis de entrada das variaveis de saida\n",
    "dados.columns"
   ]
  },
  {
   "cell_type": "code",
   "execution_count": 7,
   "metadata": {},
   "outputs": [],
   "source": [
    "# Dados de treino\n",
    "y = dados[\"Survived\"].values\n",
    "X = dados[[\"Age\",\"Fare\",\"AGE_WOE\",\"TICKET_WOE\",\"SEX_WOE\",\"SIBSP_WOE\",\"PARCH_WOE\",\"CABIN_WOE\",\"EMBARKED_WOE\",\"PCLASS_WOE\"]]"
   ]
  },
  {
   "cell_type": "code",
   "execution_count": 8,
   "metadata": {},
   "outputs": [],
   "source": [
    "# Separando os dados em treino e teste\n",
    "X_train, X_test, y_train, y_test = train_test_split(X, y, test_size = 0.2)"
   ]
  },
  {
   "cell_type": "code",
   "execution_count": 9,
   "metadata": {},
   "outputs": [
    {
     "name": "stderr",
     "output_type": "stream",
     "text": [
      "D:\\jean\\Anaconda\\lib\\site-packages\\sklearn\\linear_model\\logistic.py:433: FutureWarning: Default solver will be changed to 'lbfgs' in 0.22. Specify a solver to silence this warning.\n",
      "  FutureWarning)\n"
     ]
    },
    {
     "data": {
      "text/html": [
       "<div>\n",
       "<style scoped>\n",
       "    .dataframe tbody tr th:only-of-type {\n",
       "        vertical-align: middle;\n",
       "    }\n",
       "\n",
       "    .dataframe tbody tr th {\n",
       "        vertical-align: top;\n",
       "    }\n",
       "\n",
       "    .dataframe thead th {\n",
       "        text-align: right;\n",
       "    }\n",
       "</style>\n",
       "<table border=\"1\" class=\"dataframe\">\n",
       "  <thead>\n",
       "    <tr style=\"text-align: right;\">\n",
       "      <th></th>\n",
       "      <th>Fitted</th>\n",
       "      <th>valores_observados</th>\n",
       "    </tr>\n",
       "  </thead>\n",
       "  <tbody>\n",
       "    <tr>\n",
       "      <th>0</th>\n",
       "      <td>0</td>\n",
       "      <td>0</td>\n",
       "    </tr>\n",
       "    <tr>\n",
       "      <th>1</th>\n",
       "      <td>0</td>\n",
       "      <td>0</td>\n",
       "    </tr>\n",
       "    <tr>\n",
       "      <th>2</th>\n",
       "      <td>1</td>\n",
       "      <td>1</td>\n",
       "    </tr>\n",
       "    <tr>\n",
       "      <th>3</th>\n",
       "      <td>0</td>\n",
       "      <td>0</td>\n",
       "    </tr>\n",
       "    <tr>\n",
       "      <th>4</th>\n",
       "      <td>1</td>\n",
       "      <td>1</td>\n",
       "    </tr>\n",
       "    <tr>\n",
       "      <th>5</th>\n",
       "      <td>0</td>\n",
       "      <td>0</td>\n",
       "    </tr>\n",
       "    <tr>\n",
       "      <th>6</th>\n",
       "      <td>1</td>\n",
       "      <td>1</td>\n",
       "    </tr>\n",
       "    <tr>\n",
       "      <th>7</th>\n",
       "      <td>1</td>\n",
       "      <td>1</td>\n",
       "    </tr>\n",
       "    <tr>\n",
       "      <th>8</th>\n",
       "      <td>0</td>\n",
       "      <td>0</td>\n",
       "    </tr>\n",
       "    <tr>\n",
       "      <th>9</th>\n",
       "      <td>0</td>\n",
       "      <td>0</td>\n",
       "    </tr>\n",
       "    <tr>\n",
       "      <th>10</th>\n",
       "      <td>0</td>\n",
       "      <td>0</td>\n",
       "    </tr>\n",
       "    <tr>\n",
       "      <th>11</th>\n",
       "      <td>0</td>\n",
       "      <td>0</td>\n",
       "    </tr>\n",
       "    <tr>\n",
       "      <th>12</th>\n",
       "      <td>1</td>\n",
       "      <td>1</td>\n",
       "    </tr>\n",
       "    <tr>\n",
       "      <th>13</th>\n",
       "      <td>0</td>\n",
       "      <td>0</td>\n",
       "    </tr>\n",
       "    <tr>\n",
       "      <th>14</th>\n",
       "      <td>0</td>\n",
       "      <td>0</td>\n",
       "    </tr>\n",
       "  </tbody>\n",
       "</table>\n",
       "</div>"
      ],
      "text/plain": [
       "    Fitted  valores_observados\n",
       "0        0                   0\n",
       "1        0                   0\n",
       "2        1                   1\n",
       "3        0                   0\n",
       "4        1                   1\n",
       "5        0                   0\n",
       "6        1                   1\n",
       "7        1                   1\n",
       "8        0                   0\n",
       "9        0                   0\n",
       "10       0                   0\n",
       "11       0                   0\n",
       "12       1                   1\n",
       "13       0                   0\n",
       "14       0                   0"
      ]
     },
     "execution_count": 9,
     "metadata": {},
     "output_type": "execute_result"
    }
   ],
   "source": [
    "# # Ajustando o modelo\n",
    "regLog = LogisticRegression()\n",
    "regLog.fit(X_train, y_train)\n",
    "y_fitted = regLog.predict(X_test)\n",
    "\n",
    "resultado_final = pd.DataFrame({'Fitted':y_fitted, 'valores_observados':y_test})\n",
    "resultado_final.head(15)\n"
   ]
  },
  {
   "cell_type": "code",
   "execution_count": 10,
   "metadata": {},
   "outputs": [
    {
     "data": {
      "text/plain": [
       "array([[92,  2],\n",
       "       [ 3, 46]], dtype=int64)"
      ]
     },
     "execution_count": 10,
     "metadata": {},
     "output_type": "execute_result"
    }
   ],
   "source": [
    "# Caluclo das métricas. 
     # A matriz de confusão mostra o y_fitted (previsao do modelo) nas colunas e y_test (verdade) nas linhas
     # Na matriz de confusão a primeira coluna é referente a classe 0 (mortos) e a segunda coluna é referente a classe 1 (sobreviventes)\n",
    "accuracy_score(y_fitted, y_test)\n",
    "confusion_matrix(y_fitted, y_test)"
   ]
  }
 ],
 "metadata": {
  "kernelspec": {
   "display_name": "Python 3",
   "language": "python",
   "name": "python3"
  },
  "language_info": {
   "codemirror_mode": {
    "name": "ipython",
    "version": 3
   },
   "file_extension": ".py",
   "mimetype": "text/x-python",
   "name": "python",
   "nbconvert_exporter": "python",
   "pygments_lexer": "ipython3",
   "version": "3.7.1"
  }
 },
 "nbformat": 4,
 "nbformat_minor": 2
}
