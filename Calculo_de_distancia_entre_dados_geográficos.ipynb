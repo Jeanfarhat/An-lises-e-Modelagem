{
 "cells": [
  {
   "cell_type": "markdown",
   "metadata": {},
   "source": [
    "#  Importando bibliotecas\n"
   ]
  },
  {
   "cell_type": "code",
   "execution_count": 1,
   "metadata": {},
   "outputs": [],
   "source": [
    "import pandas as pd\n",
    "from math import sin, cos, sqrt, atan2, radians, acos\n"
   ]
  },
  {
   "cell_type": "markdown",
   "metadata": {},
   "source": [
    "# Função de calculo de distancia por Latitude/Longitude (km)"
   ]
  },
  {
   "cell_type": "code",
   "execution_count": 2,
   "metadata": {},
   "outputs": [],
   "source": [
    "#funcao que calcula a distancia entre lat e long\n",
    "def latlngDistance(slat, slon, elat, elon):\n",
    "    slat = radians(slat)\n",
    "    slon = radians(slon)\n",
    "    elat = radians(elat)\n",
    "    elon = radians(elon)\n",
    "    \n",
    "    if slat == elat and slon == elon:\n",
    "        return 0.0\n",
    "\n",
    "    dist = 6371.01 * acos(sin(slat)*sin(elat) + cos(slat)*cos(elat)*cos(slon - elon))\n",
    "    \n",
    "    return dist\n"
   ]
  },
  {
   "cell_type": "markdown",
   "metadata": {},
   "source": [
    "# Importando dados do Excel"
   ]
  },
  {
   "cell_type": "code",
   "execution_count": 4,
   "metadata": {
    "scrolled": true
   },
   "outputs": [
    {
     "data": {
      "text/html": [
       "<div>\n",
       "<style scoped>\n",
       "    .dataframe tbody tr th:only-of-type {\n",
       "        vertical-align: middle;\n",
       "    }\n",
       "\n",
       "    .dataframe tbody tr th {\n",
       "        vertical-align: top;\n",
       "    }\n",
       "\n",
       "    .dataframe thead th {\n",
       "        text-align: right;\n",
       "    }\n",
       "</style>\n",
       "<table border=\"1\" class=\"dataframe\">\n",
       "  <thead>\n",
       "    <tr style=\"text-align: right;\">\n",
       "      <th></th>\n",
       "      <th>LATITUDE_X</th>\n",
       "      <th>LONGITUDE_X</th>\n",
       "      <th>LATITUDE_Y</th>\n",
       "      <th>LONGITUDE_Y</th>\n",
       "    </tr>\n",
       "  </thead>\n",
       "  <tbody>\n",
       "    <tr>\n",
       "      <th>0</th>\n",
       "      <td>-16.725</td>\n",
       "      <td>-49.239</td>\n",
       "      <td>-16.74830</td>\n",
       "      <td>-49.24660</td>\n",
       "    </tr>\n",
       "    <tr>\n",
       "      <th>1</th>\n",
       "      <td>-16.725</td>\n",
       "      <td>-49.239</td>\n",
       "      <td>-16.74010</td>\n",
       "      <td>-49.23390</td>\n",
       "    </tr>\n",
       "    <tr>\n",
       "      <th>2</th>\n",
       "      <td>-16.725</td>\n",
       "      <td>-49.239</td>\n",
       "      <td>-16.73960</td>\n",
       "      <td>-49.25890</td>\n",
       "    </tr>\n",
       "    <tr>\n",
       "      <th>3</th>\n",
       "      <td>-16.725</td>\n",
       "      <td>-49.239</td>\n",
       "      <td>-16.73456</td>\n",
       "      <td>-49.25199</td>\n",
       "    </tr>\n",
       "    <tr>\n",
       "      <th>4</th>\n",
       "      <td>-16.725</td>\n",
       "      <td>-49.239</td>\n",
       "      <td>-16.73120</td>\n",
       "      <td>-49.26080</td>\n",
       "    </tr>\n",
       "  </tbody>\n",
       "</table>\n",
       "</div>"
      ],
      "text/plain": [
       "   LATITUDE_X  LONGITUDE_X  LATITUDE_Y  LONGITUDE_Y\n",
       "0     -16.725      -49.239   -16.74830    -49.24660\n",
       "1     -16.725      -49.239   -16.74010    -49.23390\n",
       "2     -16.725      -49.239   -16.73960    -49.25890\n",
       "3     -16.725      -49.239   -16.73456    -49.25199\n",
       "4     -16.725      -49.239   -16.73120    -49.26080"
      ]
     },
     "execution_count": 4,
     "metadata": {},
     "output_type": "execute_result"
    }
   ],
   "source": [
    "# Dados utilizados\n",
    "\n",
    "df = pd.read_excel(\"Teste.xlsx\")\n",
    "df.head()"
   ]
  },
  {
   "cell_type": "markdown",
   "metadata": {},
   "source": [
    "# Calculo da distância entre as coordenadas geográficas"
   ]
  },
  {
   "cell_type": "code",
   "execution_count": 6,
   "metadata": {},
   "outputs": [],
   "source": [
    "# Filtrando dados com Lat/Long diferente de Null\n",
    "\n",
    "df = df[(df.LATITUDE_X != \"<Null>\") & (df.LONGITUDE_X != \"<Null>\")]"
   ]
  },
  {
   "cell_type": "code",
   "execution_count": 7,
   "metadata": {
    "scrolled": true
   },
   "outputs": [],
   "source": [
    "# Calculando a distancia entre os pontos (km)\n",
    "\n",
    "df['Distancia'] = df[['LATITUDE_X','LONGITUDE_X','LATITUDE_Y','LONGITUDE_Y']].apply(lambda row: latlngDistance(row['LATITUDE_X'],row['LONGITUDE_X'],row['LATITUDE_Y'], row['LONGITUDE_Y']), axis=1)"
   ]
  },
  {
   "cell_type": "code",
   "execution_count": 8,
   "metadata": {
    "scrolled": true
   },
   "outputs": [
    {
     "data": {
      "text/html": [
       "<div>\n",
       "<style scoped>\n",
       "    .dataframe tbody tr th:only-of-type {\n",
       "        vertical-align: middle;\n",
       "    }\n",
       "\n",
       "    .dataframe tbody tr th {\n",
       "        vertical-align: top;\n",
       "    }\n",
       "\n",
       "    .dataframe thead th {\n",
       "        text-align: right;\n",
       "    }\n",
       "</style>\n",
       "<table border=\"1\" class=\"dataframe\">\n",
       "  <thead>\n",
       "    <tr style=\"text-align: right;\">\n",
       "      <th></th>\n",
       "      <th>LATITUDE_X</th>\n",
       "      <th>LONGITUDE_X</th>\n",
       "      <th>LATITUDE_Y</th>\n",
       "      <th>LONGITUDE_Y</th>\n",
       "      <th>Distancia</th>\n",
       "    </tr>\n",
       "  </thead>\n",
       "  <tbody>\n",
       "    <tr>\n",
       "      <th>0</th>\n",
       "      <td>-16.725</td>\n",
       "      <td>-49.239</td>\n",
       "      <td>-16.74830</td>\n",
       "      <td>-49.24660</td>\n",
       "      <td>2.714300</td>\n",
       "    </tr>\n",
       "    <tr>\n",
       "      <th>1</th>\n",
       "      <td>-16.725</td>\n",
       "      <td>-49.239</td>\n",
       "      <td>-16.74010</td>\n",
       "      <td>-49.23390</td>\n",
       "      <td>1.764691</td>\n",
       "    </tr>\n",
       "    <tr>\n",
       "      <th>2</th>\n",
       "      <td>-16.725</td>\n",
       "      <td>-49.239</td>\n",
       "      <td>-16.73960</td>\n",
       "      <td>-49.25890</td>\n",
       "      <td>2.669484</td>\n",
       "    </tr>\n",
       "    <tr>\n",
       "      <th>3</th>\n",
       "      <td>-16.725</td>\n",
       "      <td>-49.239</td>\n",
       "      <td>-16.73456</td>\n",
       "      <td>-49.25199</td>\n",
       "      <td>1.744564</td>\n",
       "    </tr>\n",
       "    <tr>\n",
       "      <th>4</th>\n",
       "      <td>-16.725</td>\n",
       "      <td>-49.239</td>\n",
       "      <td>-16.73120</td>\n",
       "      <td>-49.26080</td>\n",
       "      <td>2.421675</td>\n",
       "    </tr>\n",
       "  </tbody>\n",
       "</table>\n",
       "</div>"
      ],
      "text/plain": [
       "   LATITUDE_X  LONGITUDE_X  LATITUDE_Y  LONGITUDE_Y  Distancia\n",
       "0     -16.725      -49.239   -16.74830    -49.24660   2.714300\n",
       "1     -16.725      -49.239   -16.74010    -49.23390   1.764691\n",
       "2     -16.725      -49.239   -16.73960    -49.25890   2.669484\n",
       "3     -16.725      -49.239   -16.73456    -49.25199   1.744564\n",
       "4     -16.725      -49.239   -16.73120    -49.26080   2.421675"
      ]
     },
     "execution_count": 8,
     "metadata": {},
     "output_type": "execute_result"
    }
   ],
   "source": [
    "df.head()"
   ]
  },
  {
   "cell_type": "code",
   "execution_count": 19,
   "metadata": {},
   "outputs": [],
   "source": [
    "# Exportando os dados\n",
    "\n",
    "df.to_excel(\"Calculo_Distancia.xlsx\")"
   ]
  }
 ],
 "metadata": {
  "kernelspec": {
   "display_name": "Python 3",
   "language": "python",
   "name": "python3"
  },
  "language_info": {
   "codemirror_mode": {
    "name": "ipython",
    "version": 3
   },
   "file_extension": ".py",
   "mimetype": "text/x-python",
   "name": "python",
   "nbconvert_exporter": "python",
   "pygments_lexer": "ipython3",
   "version": "3.7.1"
  }
 },
 "nbformat": 4,
 "nbformat_minor": 2
}
